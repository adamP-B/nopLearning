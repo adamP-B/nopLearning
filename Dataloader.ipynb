{
 "cells": [
  {
   "cell_type": "markdown",
   "metadata": {},
   "source": [
    "# Data Loader"
   ]
  },
  {
   "cell_type": "code",
   "execution_count": 56,
   "metadata": {},
   "outputs": [],
   "source": [
    "import os\n",
    "import torch\n",
    "import pandas as pd\n",
    "from skimage import io, transform\n",
    "import numpy as np\n",
    "import matplotlib.pyplot as plt\n",
    "from torch.utils.data import Dataset, DataLoader\n",
    "from torchvision import transforms, utils\n",
    "from pathlib import Path"
   ]
  },
  {
   "cell_type": "code",
   "execution_count": 196,
   "metadata": {},
   "outputs": [],
   "source": [
    "class MultiMnistDataset(Dataset):\n",
    "    \"\"\"Multi-Digit MNist dataset.\"\"\"\n",
    "\n",
    "    def __init__(self, dirRoot, transform=None):\n",
    "        \"\"\"\n",
    "        Args:\n",
    "            dirRoot (string): Path to directory structure containing images\n",
    "            transform (callable, optional): Optional transform to be applied\n",
    "                on a sample.\n",
    "        \"\"\"\n",
    "        self.files = []\n",
    "        self._init_data(dirRoot)\n",
    "        self.n = len(self.files)\n",
    "        self.transform = transform\n",
    "\n",
    "    def _init_data(self, dirRoot):\n",
    "        for (dirpath, dirnames, filenames) in os.walk(dirRoot):\n",
    "            for f in filenames:\n",
    "                self.files.append(os.path.join(dirpath,f))\n",
    "    \n",
    "    def __len__(self):\n",
    "        return self.n\n",
    "\n",
    "    def __getitem__(self, idx):\n",
    "        image_file = self.files[idx]\n",
    "        digits = Path(image_file).parent.stem\n",
    "        image = io.imread(image_file)\n",
    "        image = torch.tensor(image, dtype=torch.float)\n",
    "        mean = torch.tensor(5.8227706)\n",
    "        std =  torch.tensor(35.0598)\n",
    "        image = (image-mean)/std\n",
    "        if self.transform:\n",
    "            image = self.transform(image)\n",
    "        sample = {'image': image, 'digits': digits}\n",
    "        return sample\n"
   ]
  },
  {
   "cell_type": "code",
   "execution_count": 197,
   "metadata": {},
   "outputs": [
    {
     "name": "stdout",
     "output_type": "stream",
     "text": [
      "1115\n",
      "29142\n"
     ]
    },
    {
     "data": {
      "image/png": "[encoded data removed]",
      "text/plain": [
       "<Figure size 432x288 with 1 Axes>"
      ]
     },
     "metadata": {
      "needs_background": "light"
     },
     "output_type": "display_data"
    }
   ],
   "source": [
    "dataset = MultiMnistDataset('./data/multiMNist/train')\n",
    "print(len(dataset))\n",
    "datum = dataset[111]\n",
    "plt.imshow(datum['image'])\n",
    "print(datum['digits'])"
   ]
  },
  {
   "cell_type": "code",
   "execution_count": 198,
   "metadata": {},
   "outputs": [
    {
     "name": "stdout",
     "output_type": "stream",
     "text": [
      "2.4861467e-07 tensor(1.0000)\n"
     ]
    }
   ],
   "source": [
    "mean = 0.0\n",
    "std = 0.0\n",
    "for data in dataset:\n",
    "    images = data['image']\n",
    "    mean += images.mean()\n",
    "    std += images.std()\n",
    "\n",
    "mean /= len(dataset)\n",
    "std /= len(dataset)\n",
    "print(mean.numpy(),std)"
   ]
  },
  {
   "cell_type": "code",
   "execution_count": null,
   "metadata": {},
   "outputs": [],
   "source": []
  },
  {
   "cell_type": "code",
   "execution_count": null,
   "metadata": {},
   "outputs": [],
   "source": []
  }
 ],
 "metadata": {
  "kernelspec": {
   "display_name": "Python 3",
   "language": "python",
   "name": "python3"
  },
  "language_info": {
   "codemirror_mode": {
    "name": "ipython",
    "version": 3
   },
   "file_extension": ".py",
   "mimetype": "text/x-python",
   "name": "python",
   "nbconvert_exporter": "python",
   "pygments_lexer": "ipython3",
   "version": "3.6.12"
  }
 },
 "nbformat": 4,
 "nbformat_minor": 4
}
